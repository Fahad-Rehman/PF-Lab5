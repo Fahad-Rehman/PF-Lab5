{
 "cells": [
  {
   "cell_type": "markdown",
   "metadata": {},
   "source": [
    "# Lab 5 Programming Exercise <br> Fahad Abdul Rehman Section A"
   ]
  },
  {
   "cell_type": "code",
   "execution_count": 31,
   "metadata": {},
   "outputs": [
    {
     "name": "stdout",
     "output_type": "stream",
     "text": [
      "The Area of the cylinder is 150.80cm²\n",
      "The Volume of the cylinder is 1244.07cm³\n"
     ]
    }
   ],
   "source": [
    "#Question No: 1\n",
    "def Area(radius, height):\n",
    "    from math import pi\n",
    "    A = (2*pi*radius*height) + (2*pi*(radius**2))\n",
    "    decimals = 2\n",
    "    print(\"The Area of the cylinder is {0:.{1}f}cm\\u00b2\".format(A, decimals))\n",
    "Area(3, 5)\n",
    "\n",
    "def Volume(Radius, Height):\n",
    "    from math import pi\n",
    "    V = pi*(Radius**2)*Height\n",
    "    decimals = 2\n",
    "    print(\"The Volume of the cylinder is {0:.{1}f}cm\\u00b3\".format(V, decimals))\n",
    "Volume(6, 11)"
   ]
  },
  {
   "cell_type": "code",
   "execution_count": 30,
   "metadata": {},
   "outputs": [
    {
     "name": "stdout",
     "output_type": "stream",
     "text": [
      "The Area of the rectangle is 136.00cm²\n",
      "The Volume of the rectangle is 476.00cm²\n"
     ]
    }
   ],
   "source": [
    "#Question No: 2\n",
    "def Area_rectangle(length, width):\n",
    "    Area = length*width\n",
    "    decimals = 2\n",
    "    print(\"The Area of the rectangle is {0:.{1}f}cm\\u00b2\".format(Area, decimals))\n",
    "Area_rectangle(17, 8)\n",
    "\n",
    "def Volume_rectangle(Length, Width, Height):\n",
    "    Volume = Length*Width*Height\n",
    "    decimals = 2\n",
    "    print(\"The Volume of the rectangle is {0:.{1}f}cm\\u00b2\".format(Volume, decimals))\n",
    "Volume_rectangle(17, 4, 7)"
   ]
  },
  {
   "cell_type": "code",
   "execution_count": 35,
   "metadata": {},
   "outputs": [
    {
     "name": "stdout",
     "output_type": "stream",
     "text": [
      "The value of 46 th term in arithmetic sequence is:  229\n",
      "Do you want to calculate another value? Type (yes or no): yes\n",
      "Enter the value of the term you want to calculate: 78\n",
      "The value of 78 th term in arithmetic sequence is:  389\n",
      "Do you want to calculate another value? Type (yes or no): no\n",
      "Thank You!\n"
     ]
    }
   ],
   "source": [
    "#Question No: 3\n",
    "def Arithmetic(first_term, comm_diff, n):\n",
    "    final_term = first_term + (n - 1) * comm_diff\n",
    "    print(\"The value of\",n,\"th term in arithmetic sequence is: \",final_term)\n",
    "    #This loop will find values of n'th term as long as you want to find the values\n",
    "    repeat = True\n",
    "    while repeat:\n",
    "        ask = str(input(\"Do you want to calculate another value? Type (yes or no): \"))\n",
    "        if ask == \"yes\":\n",
    "            n = int(input(\"Enter the value of the term you want to calculate: \"))\n",
    "            final_term = first_term + (n - 1) * comm_diff\n",
    "            print(\"The value of\",n,\"th term in arithmetic sequence is: \",final_term)\n",
    "        else:\n",
    "            print(\"Thank You!\")\n",
    "            repeat = False\n",
    "Arithmetic(4, 5, 46)"
   ]
  },
  {
   "cell_type": "code",
   "execution_count": 48,
   "metadata": {},
   "outputs": [
    {
     "name": "stdout",
     "output_type": "stream",
     "text": [
      "Your string is Palindrome\n",
      "Your string is Palindrome\n"
     ]
    }
   ],
   "source": [
    "#Question No: 4\n",
    "def Palindrome(word):\n",
    "    word_casefold = word.casefold()\n",
    "    word_reversed = ''.join(reversed(word_casefold))\n",
    "    if word_casefold == word_reversed:\n",
    "        print(\"Your string is Palindrome\")\n",
    "    else:\n",
    "        print(\"Sorry\")\n",
    "Palindrome('racecar')\n",
    "Palindrome('ROTOR')"
   ]
  },
  {
   "cell_type": "code",
   "execution_count": 18,
   "metadata": {},
   "outputs": [
    {
     "name": "stdout",
     "output_type": "stream",
     "text": [
      "\n",
      "\tName: \u001b[0m Fahad\n",
      "\u001b[1m\tFather's Name: \u001b[0m Abdul Rehman Khatri\n",
      "\u001b[1m\tRoll No: \u001b[0m 141707\n",
      "\u001b[1m\n",
      "\n",
      "\t\t\t\t    RESULT\n",
      "\u001b[1m\n",
      "\n",
      "\tSUBJECTS\t\tTOTAL MARKS\t\tMARKS OBTAINED\n",
      "\u001b[1m\n",
      "\t1. Mathematics \u001b[0m\t\t    100 \t\t      93\n",
      "\u001b[1m\n",
      "\n",
      "\t2. Chemistry \u001b[0m\t\t    100 \t\t      86\n",
      "\u001b[1m\n",
      "\n",
      "\t3. Physics \u001b[0m\t\t    100 \t\t      88\n",
      "\u001b[1m\n",
      "\n",
      "\t4. English \u001b[0m\t\t    100 \t\t      79\n",
      "\u001b[1m\n",
      "\n",
      "\t5. Urdu \u001b[0m\t\t    100 \t\t      81\n",
      "\u001b[1m\n",
      "\n",
      "\n",
      "Percentage Obtained: \u001b[0m 85.39999999999999 %\n",
      "\u001b[1mGrade Obtained: \u001b[0mA1\n",
      "\u001b[1m\n",
      "Congratulations You have passed with Distinction\u001b[0m\n"
     ]
    }
   ],
   "source": [
    "#Question No: 5\n",
    "def UserInfo(name, fathers_name, roll_no):\n",
    "    print(\"\\n\\tName: \" + \"\\033[0m\",name)\n",
    "    print(\"\\033[1m\" + \"\\tFather's Name: \" + \"\\033[0m\",fathers_name)\n",
    "    print(\"\\033[1m\" + \"\\tRoll No: \" + \"\\033[0m\",roll_no)\n",
    "    print(\"\\033[1m\" + \"\\n\\n\\t\\t\\t\\t    RESULT\")\n",
    "    print(\"\\033[1m\" + \"\\n\\n\\tSUBJECTS\" + \"\\t\\tTOTAL MARKS\" + \"\\t\\tMARKS OBTAINED\")\n",
    "\n",
    "def Subject1(subject1, total_marks1, marks_obtained1):\n",
    "    print(\"\\033[1m\" + \"\\n\\t1.\",subject1,\"\\033[0m\" + \"\\t\\t   \",total_marks1,\"\\t\\t     \",marks_obtained1)\n",
    "\n",
    "def Subject2(subject2, total_marks2, marks_obtained2):\n",
    "    print(\"\\033[1m\" + \"\\n\\n\\t2.\",subject2,\"\\033[0m\" + \"\\t\\t   \",total_marks2,\"\\t\\t     \",marks_obtained2)\n",
    "\n",
    "def Subject3(subject3, total_marks3, marks_obtained3):\n",
    "    print(\"\\033[1m\" + \"\\n\\n\\t3.\",subject3,\"\\033[0m\" + \"\\t\\t   \",total_marks3,\"\\t\\t     \",marks_obtained3)\n",
    "\n",
    "def Subject4(subject4, total_marks4, marks_obtained4):\n",
    "    print(\"\\033[1m\" + \"\\n\\n\\t4.\",subject4,\"\\033[0m\" + \"\\t\\t   \",total_marks4,\"\\t\\t     \",marks_obtained4)\n",
    "\n",
    "def Subject5(subject5, total_marks5, marks_obtained5):\n",
    "    print(\"\\033[1m\" + \"\\n\\n\\t5.\",subject5,\"\\033[0m\" + \"\\t\\t   \",total_marks5,\"\\t\\t     \",marks_obtained5)\n",
    "\n",
    "def Percentage(total_marks):\n",
    "    Sum = 93 + 86 + 88 + 79 + 81\n",
    "    percentage = (Sum / total_marks) * 100\n",
    "    print(\"\\033[1m\" + \"\\n\\n\\nPercentage Obtained: \" + \"\\033[0m\",percentage,\"%\")\n",
    "\n",
    "def grade():\n",
    "    Sum = 93 + 86 + 88 + 79 + 81\n",
    "    average = Sum / 5\n",
    "    if(average>=80 and average<=100):\n",
    "        print(\"\\033[1m\" + \"Grade Obtained: \" + \"\\033[0m\" + \"A1\")\n",
    "    elif(average>=70 and average<=79.99):\n",
    "        print(\"\\033[1m\" + \"Grade Obtained: \" + \"\\033[0m\" + \"A\")\n",
    "    elif(average>=60 and average<=69.99):\n",
    "        print(\"\\033[1m\" + \"Grade Obtained: \" + \"\\033[0m\" + \"B\")\n",
    "    elif(average>=50 and average<=59.99):\n",
    "        print(\"\\033[1m\" + \"Grade Obtained: \" + \"\\033[0m\" + \"C\")\n",
    "    elif(average>=40 and average<=49.99):\n",
    "        print(\"\\033[1m\" + \"Grade Obtained: \" + \"\\033[0m\" + \"D\")\n",
    "    elif(average>=33 and average<=39.99):\n",
    "        print(\"\\033[1m\" + \"Grade Obtained: \" + \"\\033[0m\" + \"E\")\n",
    "    else:\n",
    "        print(\"\\033[1m\" + \"You Failed\" + \"\\033[0m\")\n",
    "    print(\"\\033[1m\" + \"\\nCongratulations You have passed with Distinction\" + \"\\033[0m\")\n",
    "\n",
    "UserInfo('Fahad', 'Abdul Rehman Khatri', 141707)\n",
    "Subject1('Mathematics', 100, 93)\n",
    "Subject2('Chemistry', 100, 86)\n",
    "Subject3('Physics', 100, 88)\n",
    "Subject4('English', 100, 79)\n",
    "Subject5('Urdu', 100, 81)\n",
    "Percentage(500)\n",
    "grade()"
   ]
  },
  {
   "cell_type": "code",
   "execution_count": 19,
   "metadata": {},
   "outputs": [
    {
     "name": "stdout",
     "output_type": "stream",
     "text": [
      "The total force is: 0\n",
      "The force acting on the object is 102.9 N\n",
      "The reaction force is: -10\n"
     ]
    }
   ],
   "source": [
    "#Question No: 6\n",
    "def FirstLaw(firstForce, secondForce):\n",
    "    TotalForce = firstForce - secondForce\n",
    "    #An object would not move unless external force acts upon it\n",
    "    TotalForce == 0\n",
    "    print(\"The total force is:\",TotalForce)\n",
    "\n",
    "def SecondLaw(mass, acceleration):\n",
    "    Force = mass*acceleration\n",
    "    #The total force on an object is equal to the mass of that object multiplied by the acceleration\n",
    "    print(\"The force acting on the object is\",Force,'N')\\\n",
    "    \n",
    "\n",
    "def ThirdLaw(Force1):\n",
    "    #Every action has an equal and opposite reaction\n",
    "    Force2 = -Force1\n",
    "    print(\"The reaction force is:\",Force2)\n",
    "        \n",
    "FirstLaw(18, 18)\n",
    "SecondLaw(21, 4.9)\n",
    "ThirdLaw(10)"
   ]
  },
  {
   "cell_type": "code",
   "execution_count": 10,
   "metadata": {},
   "outputs": [
    {
     "name": "stdout",
     "output_type": "stream",
     "text": [
      "The horizontal velocity is: 8.53ms\n",
      "The vertical velocity is: 9.81ms\n",
      "The total time of flight is: 2.00s\n",
      "The range of the projectile is: 17.08m\n",
      "The maximum height of the projectile is: 4.91m\n"
     ]
    }
   ],
   "source": [
    "#Question No: 7\n",
    "def ProjectileMotion(Velocity, Angle, gravitational_acceleration):\n",
    "    from math import sin\n",
    "    from math import cos\n",
    "    from math import radians\n",
    "    rad = radians(Angle)\n",
    "    #Horizontal velocity of projectile\n",
    "    Vx = Velocity * cos(rad)\n",
    "    decimals = 2\n",
    "    print('The horizontal velocity is: {0:.{1}f}ms'.format(Vx, decimals))\n",
    "    #Vertical velocity of projectile\n",
    "    Vy = Velocity * sin(rad)\n",
    "    decimals = 2\n",
    "    print('The vertical velocity is: {0:.{1}f}ms'.format(Vy, decimals))\n",
    "    #Time of flight of projectile\n",
    "    T = (2 * Vy) / gravitational_acceleration\n",
    "    decimals = 2\n",
    "    print('The total time of flight is: {0:.{1}f}s'.format(T, decimals))\n",
    "    #Range of projectile\n",
    "    R = (2*Vx*Vy) / gravitational_acceleration\n",
    "    decimals = 2\n",
    "    print('The range of the projectile is: {0:.{1}f}m'.format(R, decimals))\n",
    "    #Maximum height of projectile\n",
    "    Hmax = Vy**2 / (2*gravitational_acceleration)\n",
    "    decimals = 2\n",
    "    print('The maximum height of the projectile is: {0:.{1}f}m'.format(Hmax, decimals))\n",
    "\n",
    "ProjectileMotion(13, 49, 9.8)"
   ]
  },
  {
   "cell_type": "code",
   "execution_count": 11,
   "metadata": {},
   "outputs": [
    {
     "name": "stdout",
     "output_type": "stream",
     "text": [
      "My name in reversed is: namheR ludbA dahaF\n"
     ]
    }
   ],
   "source": [
    "#Question No: 8\n",
    "def Name(myName):\n",
    "    myName_reversed = ''.join(reversed(myName))\n",
    "    print('My name in reversed is:',myName_reversed)\n",
    "\n",
    "Name('Fahad Abdul Rehman')"
   ]
  },
  {
   "cell_type": "code",
   "execution_count": 41,
   "metadata": {},
   "outputs": [
    {
     "data": {
      "text/plain": [
       "['Q', 'c', 'R', 'e', 'q', 'i', 'M', 'w', 'J', 'e', 'l', 'e', 'h']"
      ]
     },
     "execution_count": 41,
     "metadata": {},
     "output_type": "execute_result"
    }
   ],
   "source": [
    "#Question No: 9\n",
    "def encrypt(Text, Step):\n",
    "    result=[]\n",
    "    cryptedText=[]\n",
    "    uppercase = ['A', 'B', 'C', 'D', 'E', 'F', 'G', 'H', 'I', 'J', 'K', 'L', 'M', 'N', 'O', 'P', 'Q', 'R', 'S', 'T', 'U', 'V', 'W', 'X', 'Y', 'Z']\n",
    "    lowercase = ['a', 'b', 'c', 'd', 'e', 'f', 'g', 'h', 'i', 'j', 'k', 'l', 'm', 'n', 'o', 'p', 'q', 'r', 's', 't', 'u', 'v', 'w', 'x', 'y', 'z']\n",
    "    \n",
    "    for i in Text:\n",
    "        if i in uppercase:\n",
    "            index = uppercase.index(i)\n",
    "            crypt = (index + Step) % 26\n",
    "            cryptedText.append(crypt)\n",
    "            secondLetter = uppercase[crypt]\n",
    "            result.append(secondLetter)\n",
    "        elif i in lowercase:\n",
    "            index = lowercase.index(i)\n",
    "            crypt = (index + Step) % 26\n",
    "            cryptedText.append(crypt)\n",
    "            secondLetter = lowercase[crypt]\n",
    "            result.append(secondLetter)\n",
    "    return result\n",
    "\n",
    "encrypt('My Name Is Fahad', 4)"
   ]
  },
  {
   "cell_type": "code",
   "execution_count": 21,
   "metadata": {},
   "outputs": [
    {
     "name": "stdout",
     "output_type": "stream",
     "text": [
      "\u001b[1m\t\t\t\tSin Table\u001b[0m\n",
      "0.49999999999999994\t 0.5150380749100542\t 0.5299192642332049\t 0.5446390350150271\t 0.5591929034707469\t 0.573576436351046\t 0.5877852522924731\t 0.6018150231520483\t 0.6156614753256583\t 0.6293203910498374\t 0.6427876096865393\t 0.6560590289905073\t 0.6691306063588582\t 0.6819983600624985\t 0.6946583704589973\t \n",
      "\n",
      "\n",
      "\u001b[1m\t\t\t\tCos Table\u001b[0m\n",
      "0.7071067811865476\t 0.6946583704589973\t 0.6819983600624985\t 0.6691306063588582\t 0.6560590289905073\t 0.6427876096865394\t 0.6293203910498375\t 0.6156614753256583\t 0.6018150231520484\t 0.5877852522924731\t 0.573576436351046\t 0.5591929034707468\t 0.5446390350150271\t 0.5299192642332049\t 0.5150380749100542\t \n",
      "\n",
      "\n",
      "\u001b[1m\t\t\t\tTan Table\u001b[0m\n",
      "1.7320508075688767\t 1.8040477552714236\t 1.8807264653463318\t 1.9626105055051504\t 2.050303841579296\t 2.1445069205095586\t 2.2460367739042164\t 2.355852365823753\t 2.4750868534162964\t 2.6050890646938005\t 2.7474774194546216\t 2.904210877675822\t 3.0776835371752527\t 3.2708526184841404\t 3.4874144438409087\t "
     ]
    }
   ],
   "source": [
    "#Question No: 10\n",
    "from math import sin\n",
    "from math import cos\n",
    "from math import tan\n",
    "from math import radians\n",
    "print(\"\\033[1m\\t\\t\\t\\tSin Table\\033[0m\")\n",
    "def SinTable(angle1, angle2):\n",
    "    for i in range(angle1, angle2):\n",
    "        sin1 = sin(radians(i))\n",
    "        print(sin1, end='\\t ')\n",
    "SinTable(30, 45)\n",
    "\n",
    "print('\\n\\n')\n",
    "print(\"\\033[1m\\t\\t\\t\\tCos Table\\033[0m\")\n",
    "def CosTable(angle1, angle2):\n",
    "    for i in range(angle1, angle2):\n",
    "        cos1 = cos(radians(i))\n",
    "        print(cos1, end='\\t ')\n",
    "\n",
    "CosTable(45, 60)\n",
    "\n",
    "print('\\n\\n')\n",
    "print(\"\\033[1m\\t\\t\\t\\tTan Table\\033[0m\")\n",
    "def TanTable(angle1, angle2):\n",
    "    for i in range(angle1, angle2):\n",
    "        tan1 = tan(radians(i))\n",
    "        print(tan1, end='\\t ')\n",
    "\n",
    "TanTable(60, 75)"
   ]
  },
  {
   "cell_type": "code",
   "execution_count": 5,
   "metadata": {},
   "outputs": [
    {
     "name": "stdout",
     "output_type": "stream",
     "text": [
      "The perimeter of the semicircle including both semicircle is: 35.99114857512855\n",
      "The perimeter of the semicircle excluding both semicircles is: 0.0\n",
      "The area of the semicircle including both semicircle is: 76.97 sq².inches\n",
      "The area of the semicircle excluding both semicircle is: 38.48 sq².inches\n"
     ]
    }
   ],
   "source": [
    "#Question No: 11\n",
    "from math import pi\n",
    "\n",
    "def SemiCirclePerimeter(diameter, diameter1, diameter2):\n",
    "    radius = diameter / 2\n",
    "    radius1 = diameter1 / 2\n",
    "    radius2 = diameter2 / 2\n",
    "    perimeter = (pi*radius) + (2*radius)\n",
    "    perimeter1 = (pi*radius1) + (2*radius1)\n",
    "    perimeter2 = (pi*radius2) + (2*radius2)\n",
    "    print(\"The perimeter of the semicircle including both semicircle is:\",perimeter)\n",
    "    total_perimeter = perimeter1 + perimeter2\n",
    "    avg_perimeter = perimeter - total_perimeter\n",
    "    print(\"The perimeter of the semicircle excluding both semicircles is:\",avg_perimeter)\n",
    "    \n",
    "def SemiCircleArea(Diameter, Diameter1, Diameter2):\n",
    "    Radius = Diameter/2\n",
    "    Radius1 = Diameter1/2\n",
    "    Radius2 = Diameter2/2\n",
    "    area = (pi*Radius**2) / 2\n",
    "    decimals = 2\n",
    "    print(\"The area of the semicircle including both semicircle is: {0:.{1}f} sq\\u00b2.inches\".format(area, decimals))\n",
    "    area1 = (pi*Radius1**2) / 2\n",
    "    area2 = (pi*Radius2**2) / 2\n",
    "    total_area = area1 + area2\n",
    "    avg_area = area = total_area\n",
    "    decimals = 2\n",
    "    print(\"The area of the semicircle excluding both semicircle is: {0:.{1}f} sq\\u00b2.inches\".format(avg_area, decimals))\n",
    "\n",
    "SemiCirclePerimeter(14, 7, 7)\n",
    "SemiCircleArea(14, 7, 7)"
   ]
  }
 ],
 "metadata": {
  "kernelspec": {
   "display_name": "Python 3",
   "language": "python",
   "name": "python3"
  },
  "language_info": {
   "codemirror_mode": {
    "name": "ipython",
    "version": 3
   },
   "file_extension": ".py",
   "mimetype": "text/x-python",
   "name": "python",
   "nbconvert_exporter": "python",
   "pygments_lexer": "ipython3",
   "version": "3.7.3"
  }
 },
 "nbformat": 4,
 "nbformat_minor": 2
}
